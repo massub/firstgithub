{
 "cells": [
  {
   "cell_type": "markdown",
   "id": "b423f62c",
   "metadata": {},
   "source": [
    "# - Indexing"
   ]
  },
  {
   "cell_type": "code",
   "execution_count": 1,
   "id": "391fb102",
   "metadata": {},
   "outputs": [
    {
     "data": {
      "text/plain": [
       "'samosa pakora'"
      ]
     },
     "execution_count": 1,
     "metadata": {},
     "output_type": "execute_result"
    }
   ],
   "source": [
    "a = \"samosa pakora\"\n",
    "a"
   ]
  },
  {
   "cell_type": "code",
   "execution_count": 2,
   "id": "2dca352c",
   "metadata": {},
   "outputs": [],
   "source": [
    "# every character including space is an index and collectively called indices"
   ]
  },
  {
   "cell_type": "code",
   "execution_count": null,
   "id": "a2f3a1f4",
   "metadata": {},
   "outputs": [],
   "source": []
  },
  {
   "cell_type": "code",
   "execution_count": 3,
   "id": "6665442f",
   "metadata": {},
   "outputs": [
    {
     "data": {
      "text/plain": [
       "'s'"
      ]
     },
     "execution_count": 3,
     "metadata": {},
     "output_type": "execute_result"
    }
   ],
   "source": [
    "a[0]"
   ]
  },
  {
   "cell_type": "code",
   "execution_count": 4,
   "id": "c6d6ab9d",
   "metadata": {},
   "outputs": [
    {
     "data": {
      "text/plain": [
       "'a'"
      ]
     },
     "execution_count": 4,
     "metadata": {},
     "output_type": "execute_result"
    }
   ],
   "source": [
    "a[1]"
   ]
  },
  {
   "cell_type": "code",
   "execution_count": 5,
   "id": "767833a8",
   "metadata": {},
   "outputs": [
    {
     "data": {
      "text/plain": [
       "13"
      ]
     },
     "execution_count": 5,
     "metadata": {},
     "output_type": "execute_result"
    }
   ],
   "source": [
    "len(a)"
   ]
  },
  {
   "cell_type": "code",
   "execution_count": 6,
   "id": "7f74c673",
   "metadata": {},
   "outputs": [
    {
     "ename": "IndexError",
     "evalue": "string index out of range",
     "output_type": "error",
     "traceback": [
      "\u001b[1;31m---------------------------------------------------------------------------\u001b[0m",
      "\u001b[1;31mIndexError\u001b[0m                                Traceback (most recent call last)",
      "\u001b[1;32m~\\AppData\\Local\\Temp/ipykernel_3576/44426512.py\u001b[0m in \u001b[0;36m<module>\u001b[1;34m\u001b[0m\n\u001b[1;32m----> 1\u001b[1;33m \u001b[0ma\u001b[0m\u001b[1;33m[\u001b[0m\u001b[1;36m13\u001b[0m\u001b[1;33m]\u001b[0m \u001b[1;31m#it will be an error because python starts counting from 0 not 1 therefore last index will be 12 and total indices are 13\u001b[0m\u001b[1;33m\u001b[0m\u001b[1;33m\u001b[0m\u001b[0m\n\u001b[0m",
      "\u001b[1;31mIndexError\u001b[0m: string index out of range"
     ]
    }
   ],
   "source": [
    "a[13] #it will be an error because python starts counting from 0 not 1 therefore last index will be 12 and total indices are 13"
   ]
  },
  {
   "cell_type": "code",
   "execution_count": null,
   "id": "fbbb40a4",
   "metadata": {},
   "outputs": [],
   "source": [
    "a[1:6] #see S is missing because S is 0 not 1"
   ]
  },
  {
   "cell_type": "code",
   "execution_count": null,
   "id": "f2bceef2",
   "metadata": {},
   "outputs": [],
   "source": [
    "a[0:6] #now its complete"
   ]
  },
  {
   "cell_type": "code",
   "execution_count": null,
   "id": "00549f77",
   "metadata": {},
   "outputs": [],
   "source": [
    "a[-2] # now when we write minus sign - then it will start from the right side"
   ]
  },
  {
   "cell_type": "code",
   "execution_count": null,
   "id": "ee27c8a8",
   "metadata": {},
   "outputs": [],
   "source": [
    "a[-1-:-6] # its an error because english is written left to right not right to left, see below line of code"
   ]
  },
  {
   "cell_type": "code",
   "execution_count": null,
   "id": "e757f2ac",
   "metadata": {},
   "outputs": [],
   "source": [
    "a[-6:-1]"
   ]
  },
  {
   "cell_type": "code",
   "execution_count": null,
   "id": "ec7cc333",
   "metadata": {},
   "outputs": [],
   "source": [
    "a[-6:13]"
   ]
  },
  {
   "cell_type": "markdown",
   "id": "42b9e6a0",
   "metadata": {},
   "source": [
    "# Strings"
   ]
  },
  {
   "cell_type": "code",
   "execution_count": null,
   "id": "a1b4470b",
   "metadata": {},
   "outputs": [],
   "source": [
    "food = \"biryani\""
   ]
  },
  {
   "cell_type": "code",
   "execution_count": null,
   "id": "8ac56cd1",
   "metadata": {},
   "outputs": [],
   "source": [
    "len(food)"
   ]
  },
  {
   "cell_type": "code",
   "execution_count": null,
   "id": "14ea6179",
   "metadata": {},
   "outputs": [],
   "source": [
    "food.capitalize() #to capitalize the 1st letter"
   ]
  },
  {
   "cell_type": "code",
   "execution_count": null,
   "id": "3d508fe1",
   "metadata": {},
   "outputs": [],
   "source": [
    "food.upper() # after typing food. press TAB for options and select upper "
   ]
  },
  {
   "cell_type": "code",
   "execution_count": null,
   "id": "9ea5706b",
   "metadata": {},
   "outputs": [],
   "source": [
    "food.lower()"
   ]
  },
  {
   "cell_type": "code",
   "execution_count": null,
   "id": "a2c9ab6c",
   "metadata": {},
   "outputs": [],
   "source": [
    "food.replace(\"b\", \"sh\") ## use replace function to replace a selected index with another"
   ]
  },
  {
   "cell_type": "code",
   "execution_count": null,
   "id": "56526f9f",
   "metadata": {},
   "outputs": [],
   "source": [
    "# counting a specific alphabet in a string\n",
    "name = \"baba ammar with Dr ammar tufail\"\n",
    "name\n",
    "name.count(\"a\")"
   ]
  },
  {
   "cell_type": "markdown",
   "id": "3fa847c9",
   "metadata": {},
   "source": [
    "## -Find the index number in a long string\n",
    "\n"
   ]
  },
  {
   "cell_type": "code",
   "execution_count": null,
   "id": "c8227fbf",
   "metadata": {},
   "outputs": [],
   "source": [
    "name = \"baba aammar with Dr ammar tufail\"\n",
    "name.find(\"t\")\n",
    "name.find(\"b\")\n",
    "name.find(\"aa\")"
   ]
  },
  {
   "cell_type": "code",
   "execution_count": null,
   "id": "29ba7ec2",
   "metadata": {},
   "outputs": [],
   "source": [
    "# how to split a string\n",
    "food = \"i love samosa, pakora, biryani, and karahi\"\n",
    "food\n",
    "food.split(\",\")"
   ]
  },
  {
   "cell_type": "code",
   "execution_count": null,
   "id": "b03fc725",
   "metadata": {},
   "outputs": [],
   "source": []
  },
  {
   "cell_type": "markdown",
   "id": "3e1a543a",
   "metadata": {},
   "source": [
    "# Basic data Structure in Python\n",
    "\n",
    "## 1- Tuple\n",
    "## 2- List\n",
    "## 3- Dictionaries\n",
    "## 4- Set"
   ]
  },
  {
   "cell_type": "markdown",
   "id": "d03ff9ce",
   "metadata": {},
   "source": [
    "# 1-Tuple\n",
    "     -ordered collection of elements and are enclosed in round paranthesis\n",
    "     -different kind of elements can be stores\n",
    "     -once elements are stored you can not change them or they are unmutable"
   ]
  },
  {
   "cell_type": "code",
   "execution_count": null,
   "id": "6da13108",
   "metadata": {},
   "outputs": [],
   "source": [
    "tup1 = (1, \"python\", True, 2.5)\n",
    "tup1\n",
    "type(tup1) #type of tuple"
   ]
  },
  {
   "cell_type": "markdown",
   "id": "aedb4df1",
   "metadata": {},
   "source": [
    "#### -Indexing in Tuple"
   ]
  },
  {
   "cell_type": "code",
   "execution_count": null,
   "id": "01c52bf8",
   "metadata": {},
   "outputs": [],
   "source": [
    "tup1[0]\n",
    "tup1[1]\n",
    "tup1[2]\n",
    "tup1[0:5]\n",
    "tup1[0:4] #last element is EXCLUSIVE because it starts from zero 0"
   ]
  },
  {
   "cell_type": "code",
   "execution_count": null,
   "id": "3e643e18",
   "metadata": {},
   "outputs": [],
   "source": [
    "# Elements in tuple\n",
    "len(tup1)"
   ]
  },
  {
   "cell_type": "code",
   "execution_count": null,
   "id": "446a0904",
   "metadata": {},
   "outputs": [],
   "source": [
    "tup2=(2, \"baba\", 4.5, False)\n",
    "tup2"
   ]
  },
  {
   "cell_type": "code",
   "execution_count": null,
   "id": "f46e6825",
   "metadata": {},
   "outputs": [],
   "source": [
    "# concatinate is to add two or more tuples\n",
    "tup1 + tup2 #adding both tuples"
   ]
  },
  {
   "cell_type": "code",
   "execution_count": null,
   "id": "7a73c766",
   "metadata": {},
   "outputs": [],
   "source": [
    "tup1*2 + tup2 # concatinate plus repeat"
   ]
  },
  {
   "cell_type": "code",
   "execution_count": null,
   "id": "bae9bca9",
   "metadata": {},
   "outputs": [],
   "source": [
    "tup3=(20, 50, 50, 80, 95)\n",
    "tup3"
   ]
  },
  {
   "cell_type": "code",
   "execution_count": null,
   "id": "1a77be73",
   "metadata": {},
   "outputs": [],
   "source": [
    "min(tup3) #to get minimum value in tuple however it can only be done with a tuple of similar elements\n",
    "max(tup3) #to get maximum value in tuple however it can only be done with a tuple of similar elements"
   ]
  },
  {
   "cell_type": "markdown",
   "id": "08c05f39",
   "metadata": {},
   "source": [
    " -How to add dashes after a specific heading/chapter"
   ]
  },
  {
   "cell_type": "markdown",
   "id": "fc34de13",
   "metadata": {},
   "source": [
    "---"
   ]
  },
  {
   "cell_type": "markdown",
   "id": "c704320c",
   "metadata": {},
   "source": [
    "# 2-List\n",
    "     -ordered collection of elements and are enclosed in square brackets []\n",
    "     -once elements are stored you can change them or they are unmutable"
   ]
  },
  {
   "cell_type": "code",
   "execution_count": null,
   "id": "83e1f45a",
   "metadata": {},
   "outputs": [],
   "source": [
    "list1=[2, \"baba\", 4.5, False]\n",
    "type(list1) #to see type\n",
    "len(list1)  #to count length\n",
    "list1[2]    #to index or find certain element in list"
   ]
  },
  {
   "cell_type": "code",
   "execution_count": null,
   "id": "a577474f",
   "metadata": {},
   "outputs": [],
   "source": [
    "list2=[3,5,\"aamar\", \"codanics\", 4078, 53.8, False]\n",
    "list2"
   ]
  },
  {
   "cell_type": "code",
   "execution_count": null,
   "id": "be439591",
   "metadata": {},
   "outputs": [],
   "source": [
    "list1+list2 #concatinating or adding"
   ]
  },
  {
   "cell_type": "code",
   "execution_count": null,
   "id": "308618e4",
   "metadata": {},
   "outputs": [],
   "source": [
    "list1*2 #repeating list"
   ]
  },
  {
   "cell_type": "code",
   "execution_count": null,
   "id": "7063be20",
   "metadata": {},
   "outputs": [],
   "source": [
    "#try typing TAB after list1. to see different functions\n",
    "list1.reverse()\n",
    "list1\n"
   ]
  },
  {
   "cell_type": "code",
   "execution_count": null,
   "id": "dceadf41",
   "metadata": {},
   "outputs": [],
   "source": [
    "list1.append(\"Codanics youtube channel\") #if typed .append twice then it will appear 2 times\n",
    "list1"
   ]
  },
  {
   "cell_type": "code",
   "execution_count": null,
   "id": "60e026c8",
   "metadata": {},
   "outputs": [],
   "source": [
    " list1.count(\"Codanics youtube channel\")"
   ]
  },
  {
   "cell_type": "code",
   "execution_count": null,
   "id": "22b6fdea",
   "metadata": {},
   "outputs": [],
   "source": [
    "list3=[20,30,35,50,15,80,40]\n",
    "list3\n",
    "len(list3)\n",
    "list3.sort() # it will sort the list in ascending order\n",
    "list3"
   ]
  },
  {
   "cell_type": "code",
   "execution_count": null,
   "id": "41116683",
   "metadata": {},
   "outputs": [],
   "source": [
    "list1+list2\n",
    "lists = list1+list2\n",
    "lists"
   ]
  },
  {
   "cell_type": "markdown",
   "id": "9107b082",
   "metadata": {},
   "source": [
    "# 1-Dictionaries\n",
    "     -An unordered collection of elements\n",
    "     -key and value\n",
    "     -curly brackets {}\n",
    "     -they are mutateable"
   ]
  },
  {
   "cell_type": "code",
   "execution_count": null,
   "id": "d1a30de6",
   "metadata": {},
   "outputs": [],
   "source": [
    "#Food and their prices\n",
    "food1 = {\"samosa\":30, \"pakora\":100,\"raita\":10,\"salad\":50,\"chicken rolls\":30} #Samose is KEY and price is VALUE and so on...\n",
    "food1"
   ]
  },
  {
   "cell_type": "code",
   "execution_count": null,
   "id": "f4320947",
   "metadata": {},
   "outputs": [],
   "source": [
    "type(food1) #type is dictionary"
   ]
  },
  {
   "cell_type": "code",
   "execution_count": null,
   "id": "f5346e81",
   "metadata": {},
   "outputs": [],
   "source": [
    "# Extract data from a dictionary\n",
    "food1.keys() # for keys\n",
    "keys1 = food1.keys()\n",
    "keys1"
   ]
  },
  {
   "cell_type": "code",
   "execution_count": null,
   "id": "c985b0a7",
   "metadata": {},
   "outputs": [],
   "source": [
    "food1.values() #for values\n",
    "values1 = food1.values()\n",
    "values1"
   ]
  },
  {
   "cell_type": "code",
   "execution_count": null,
   "id": "ffe0b864",
   "metadata": {},
   "outputs": [],
   "source": [
    "#Adding new variable\n",
    "food1[\"Tikki\"]=10\n",
    "food1"
   ]
  },
  {
   "cell_type": "code",
   "execution_count": null,
   "id": "97cbcc7c",
   "metadata": {},
   "outputs": [],
   "source": [
    "# to update the values\n",
    "food1[\"Tikki\"]=15\n",
    "food1"
   ]
  },
  {
   "cell_type": "code",
   "execution_count": null,
   "id": "824dc6f6",
   "metadata": {},
   "outputs": [],
   "source": [
    "food2={\"Dates\":50, \"Choclates\":200,\"Sawayyan\":1000}\n",
    "food2"
   ]
  },
  {
   "cell_type": "code",
   "execution_count": null,
   "id": "4c83e810",
   "metadata": {},
   "outputs": [],
   "source": [
    "#How to concatinate a dictionary\n",
    "food1.update(food2)\n",
    "food1"
   ]
  },
  {
   "cell_type": "markdown",
   "id": "43f5344b",
   "metadata": {},
   "source": [
    "# 4-Sets\n",
    "     -An unordered and unindexed collection of elements\n",
    "     -No duplicates are allowed\n",
    "     -curly brackets {}"
   ]
  },
  {
   "cell_type": "code",
   "execution_count": null,
   "id": "6a48fd57",
   "metadata": {},
   "outputs": [],
   "source": [
    "s1 = {1,2,2.2,5,\"Codanics\",\"Aammar\",\"Faisalabad\", True}\n",
    "s1 #boolean variable are not shown"
   ]
  },
  {
   "cell_type": "code",
   "execution_count": null,
   "id": "af1e38c0",
   "metadata": {},
   "outputs": [],
   "source": [
    "#to add a value in a set\n",
    "s1.add(\"Massub\")\n",
    "s1"
   ]
  },
  {
   "cell_type": "code",
   "execution_count": null,
   "id": "2c48b421",
   "metadata": {},
   "outputs": [],
   "source": [
    "s1.add(\"Massub\") #Massub will be shown only once\n",
    "s1"
   ]
  },
  {
   "cell_type": "code",
   "execution_count": null,
   "id": "fcc3f607",
   "metadata": {},
   "outputs": [],
   "source": [
    "#to remove an element\n",
    "s1.remove(\"Faisalabad\")\n",
    "s1"
   ]
  },
  {
   "cell_type": "code",
   "execution_count": null,
   "id": "483780d6",
   "metadata": {},
   "outputs": [],
   "source": []
  },
  {
   "cell_type": "code",
   "execution_count": null,
   "id": "62ece6a4",
   "metadata": {},
   "outputs": [],
   "source": []
  }
 ],
 "metadata": {
  "kernelspec": {
   "display_name": "Python 3 (ipykernel)",
   "language": "python",
   "name": "python3"
  },
  "language_info": {
   "codemirror_mode": {
    "name": "ipython",
    "version": 3
   },
   "file_extension": ".py",
   "mimetype": "text/x-python",
   "name": "python",
   "nbconvert_exporter": "python",
   "pygments_lexer": "ipython3",
   "version": "3.9.7"
  }
 },
 "nbformat": 4,
 "nbformat_minor": 5
}
