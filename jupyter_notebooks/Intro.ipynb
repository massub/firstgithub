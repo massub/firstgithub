{
 "cells": [
  {
   "cell_type": "markdown",
   "id": "1459d218",
   "metadata": {},
   "source": [
    "# Introduction to Python\n",
    "## Basic commands"
   ]
  },
  {
   "cell_type": "markdown",
   "id": "573138cf",
   "metadata": {},
   "source": [
    "### 01_1st program"
   ]
  },
  {
   "cell_type": "code",
   "execution_count": 1,
   "id": "ae57b881",
   "metadata": {},
   "outputs": [
    {
     "name": "stdout",
     "output_type": "stream",
     "text": [
      "5\n",
      "Hello World!\n",
      "We are learning with Ammar\n"
     ]
    }
   ],
   "source": [
    "print(2+3)\n",
    "print(\"Hello World!\")\n",
    "print(\"We are learning with Ammar\")\n"
   ]
  },
  {
   "cell_type": "markdown",
   "id": "2eccf912",
   "metadata": {},
   "source": [
    "### 02_operators"
   ]
  },
  {
   "cell_type": "code",
   "execution_count": 2,
   "id": "e9ea1f9a",
   "metadata": {},
   "outputs": [
    {
     "name": "stdout",
     "output_type": "stream",
     "text": [
      "5\n",
      "2\n",
      "20\n",
      "1\n",
      "3.0\n",
      "3\n",
      "8\n",
      "8.0\n"
     ]
    }
   ],
   "source": [
    "print(2+3)\n",
    "print(3-1)\n",
    "print(4*5)\n",
    "print(10%3)\n",
    "\n",
    "print(6/2)\n",
    "print(6//2)\n",
    "print(2**3)\n",
    "print(3**2/2+4-1/2)"
   ]
  },
  {
   "cell_type": "markdown",
   "id": "ae6a736b",
   "metadata": {},
   "source": [
    "**PEMDAS**\n",
    "*Paranthesis Exponent Multiplication Division Addition Subtraction*\n",
    "\n",
    "**sequence will be left to right for M D & A S i.e. left will resovle first then right of equation or problem**"
   ]
  },
  {
   "cell_type": "markdown",
   "id": "258658d8",
   "metadata": {},
   "source": [
    "### 03_Strings"
   ]
  },
  {
   "cell_type": "code",
   "execution_count": 3,
   "id": "61fe8aef",
   "metadata": {},
   "outputs": [
    {
     "name": "stdout",
     "output_type": "stream",
     "text": [
      "Hello World!\n",
      "We are learning with Ammar\n",
      "test for single code\n",
      "test for double code\n",
      "Hello\n",
      "test for single quote\n",
      "What's Up dude\n",
      "Massub Tehseen\n"
     ]
    }
   ],
   "source": [
    "print(\"Hello World!\")\n",
    "print(\"We are learning with Ammar\")\n",
    "print('test for single code')\n",
    "print(\"test for double code\")\n",
    "print(\"Hello\")\n",
    "print('test for single quote')\n",
    "print(\"What's Up dude\")\n",
    "print(\"Massub Tehseen\")"
   ]
  },
  {
   "cell_type": "markdown",
   "id": "a7b542fb",
   "metadata": {},
   "source": [
    "**Strings are non numeric arguments/variable like below**"
   ]
  },
  {
   "cell_type": "markdown",
   "id": "c2c63937",
   "metadata": {},
   "source": [
    "### 04_Comments"
   ]
  },
  {
   "cell_type": "markdown",
   "id": "96e46082",
   "metadata": {},
   "source": [
    "**to put comment in multiple lines use ctrl+/**"
   ]
  },
  {
   "cell_type": "code",
   "execution_count": 4,
   "id": "40821f5a",
   "metadata": {},
   "outputs": [],
   "source": [
    "#print(\"Hello World!\")\n",
    "#print(\"We are learning with Ammar\")\n",
    "#print('test for single code')\n",
    "#print(\"test for double code\")\n",
    "#print(2+3)\n",
    "#print(\"Hello\") press ctrl+/ to comment out multiple lines"
   ]
  },
  {
   "cell_type": "markdown",
   "id": "a75e3e1c",
   "metadata": {},
   "source": [
    "### 05_Variables"
   ]
  },
  {
   "cell_type": "markdown",
   "id": "1ad86920",
   "metadata": {},
   "source": [
    "**Variables: objects containing specific values**\n",
    "*for example x = 5 means x is a variable that contains a value of 5*"
   ]
  },
  {
   "cell_type": "code",
   "execution_count": 5,
   "id": "b85ecf9c",
   "metadata": {},
   "outputs": [
    {
     "name": "stdout",
     "output_type": "stream",
     "text": [
      "5\n",
      "I am learning python\n",
      "15\n",
      "<class 'int'>\n",
      "<class 'str'>\n"
     ]
    }
   ],
   "source": [
    "x = 5 #integer variable\n",
    "print(x)\n",
    "y = \"I am learning python\"\n",
    "print(y) #string variable\n",
    "\n",
    "x = x+10\n",
    "print(x) #Now the previous x is updated to new x\n",
    "\n",
    "#### Types of variables\n",
    "type(x)\n",
    "print(type(x)) #int = integer\n",
    "\n",
    "print(type(y)) # str = string"
   ]
  },
  {
   "cell_type": "markdown",
   "id": "ab725727",
   "metadata": {},
   "source": [
    "**Rules to assign variables**\n",
    "#1. The variables should contain letters, numers or underscores\n",
    "#2. do not stat a variable with a number i.e. 2y = 5 is wrong\n",
    "#3. do not add spaces in variable name\n",
    "#4. Do not use key words used in functions like mean median test and/or break\n",
    "#5. name should be short and descriptive\n",
    "#6. case sensitivity be careful about lower and uppercase letters, better to use lowercase"
   ]
  },
  {
   "cell_type": "code",
   "execution_count": 6,
   "id": "09440d06",
   "metadata": {},
   "outputs": [
    {
     "name": "stdout",
     "output_type": "stream",
     "text": [
      "mangoes, oranges\n",
      "<class 'str'>\n"
     ]
    }
   ],
   "source": [
    "fruit_basket = \"mangoes, oranges\"\n",
    "print(fruit_basket)\n",
    "print(type(fruit_basket))"
   ]
  },
  {
   "cell_type": "markdown",
   "id": "95a5fede",
   "metadata": {},
   "source": [
    "### 06_Input Variables"
   ]
  },
  {
   "cell_type": "markdown",
   "id": "fd227b30",
   "metadata": {},
   "source": [
    "#Here an input is required"
   ]
  },
  {
   "cell_type": "code",
   "execution_count": null,
   "id": "4e185f69",
   "metadata": {},
   "outputs": [],
   "source": [
    "name = input(\"what is your name? \")\n",
    "age = input(\"How old are you? \")\n",
    "greetings= \"Hello!\"\n",
    "print(greetings, name, \"you are still young\")"
   ]
  },
  {
   "cell_type": "markdown",
   "id": "4f495e84",
   "metadata": {},
   "source": [
    "### 07_Conditional and logical"
   ]
  },
  {
   "cell_type": "markdown",
   "id": "d27e3855",
   "metadata": {},
   "source": [
    "**Application of logcial operators**"
   ]
  },
  {
   "cell_type": "code",
   "execution_count": null,
   "id": "17cd13c3",
   "metadata": {},
   "outputs": [],
   "source": [
    "anna_age=5\n",
    "age_at_school=6\n",
    "print(anna_age==age_at_school)"
   ]
  },
  {
   "cell_type": "markdown",
   "id": "b8e091f9",
   "metadata": {},
   "source": [
    "**input function and logical operator**"
   ]
  },
  {
   "cell_type": "code",
   "execution_count": null,
   "id": "f699fed3",
   "metadata": {},
   "outputs": [],
   "source": [
    "age_at_school=6\n",
    "anna_age=input(\"how old is anna? \") #input function\n",
    "anna_age=int(anna_age) #if we dont convert str to int then the output will be False\n",
    "print(type(anna_age))\n",
    "print(anna_age==age_at_school) #logical operator"
   ]
  },
  {
   "cell_type": "markdown",
   "id": "bfa7e7f8",
   "metadata": {},
   "source": [
    "### 08_type conversion"
   ]
  },
  {
   "cell_type": "code",
   "execution_count": null,
   "id": "fa78e2ee",
   "metadata": {},
   "outputs": [],
   "source": [
    "# x=10                #integer\n",
    "# y=2.5               #float\n",
    "# z=\"hello\"           #string"
   ]
  },
  {
   "cell_type": "markdown",
   "id": "7db4a908",
   "metadata": {},
   "source": [
    "**implicit type conversion**"
   ]
  },
  {
   "cell_type": "code",
   "execution_count": null,
   "id": "9186aa4c",
   "metadata": {},
   "outputs": [],
   "source": [
    "x=x*y\n",
    "print(x, \"type of x is \", type(x))"
   ]
  },
  {
   "cell_type": "markdown",
   "id": "3449b219",
   "metadata": {},
   "source": [
    "**explicit type of conversion**"
   ]
  },
  {
   "cell_type": "code",
   "execution_count": null,
   "id": "945afc07",
   "metadata": {},
   "outputs": [],
   "source": [
    "age=input(\"what is your age? \")\n",
    "print(type(age))\n",
    "#now convert it to int\n",
    "age=input(\"what is your age? \")\n",
    "age = int(age)\n",
    "print(type(int(age))) #same as above line\n",
    "print(type(age))"
   ]
  },
  {
   "cell_type": "markdown",
   "id": "a556d360",
   "metadata": {},
   "source": [
    "### 09_if_elif_else"
   ]
  },
  {
   "cell_type": "code",
   "execution_count": null,
   "id": "6f8be2ba",
   "metadata": {},
   "outputs": [],
   "source": [
    "required_age_at_School=5\n",
    "hammad_age=2\n",
    "\n",
    "#can hammad go to school?\n",
    "\n",
    "if hammad_age == required_age_at_School:\n",
    "    print(\"hammad can join the school\")\n",
    "elif hammad_age > required_age_at_School:\n",
    "    print(\"Hammad should join higher secondary school\")\n",
    "elif hammad_age <= 2:\n",
    "    print(\"Hammad is stil a baby\")\n",
    "else: \n",
    "        print(\"hamamd can not join the school\")"
   ]
  },
  {
   "cell_type": "markdown",
   "id": "a38b4232",
   "metadata": {},
   "source": [
    "### 10_Functions"
   ]
  },
  {
   "cell_type": "markdown",
   "id": "017fd009",
   "metadata": {},
   "source": [
    "**There are three ways of defining a function**\n",
    "*to execute the next way you must mask the previous one with # sign*"
   ]
  },
  {
   "cell_type": "code",
   "execution_count": null,
   "id": "f28bb17b",
   "metadata": {},
   "outputs": [],
   "source": [
    "#1st way to define a function\n",
    "\n",
    "def print_codanics():\n",
    "        print(\"learning python\")\n",
    "        print(\"learning python\")\n",
    "        print(\"learning python\")\n",
    "print(print_codanics)\n",
    "\n",
    "#2nd way to define a function\n",
    "\n",
    "def print_codanics():\n",
    "     text = \"learining python with ammar\"\n",
    "     print(text)\n",
    "     print(text)\n",
    "     print(text)\n",
    "\n",
    "print_codanics()\n",
    "\n",
    "#3rd way to define a function\n",
    "\n",
    "def print_codanics(text):\n",
    "     print(text)\n",
    "     print(text)\n",
    "     print(text)\n",
    "print_codanics(\"learning python with ammar\")\n",
    "\n",
    "\n",
    "\n",
    " \n",
    "\n"
   ]
  },
  {
   "cell_type": "markdown",
   "id": "a7d60fa2",
   "metadata": {},
   "source": [
    "**defining a function with if elif and else statements**\n"
   ]
  },
  {
   "cell_type": "code",
   "execution_count": null,
   "id": "63a0017a",
   "metadata": {},
   "outputs": [],
   "source": [
    "def school_calculator(age):\n",
    "     if age==5:\n",
    "         print(\"Hammad can join the school\")\n",
    "     elif age > 5:\n",
    "         print(\"Hammad should go to higher school\")\n",
    "     else:\n",
    "         print(\"Hammad is still a baby\")\n",
    "            \n",
    "school_calculator(5)"
   ]
  },
  {
   "cell_type": "markdown",
   "id": "73d5c809",
   "metadata": {},
   "source": [
    "**defining a function of future**"
   ]
  },
  {
   "cell_type": "code",
   "execution_count": null,
   "id": "672171ff",
   "metadata": {},
   "outputs": [],
   "source": [
    "def future_age(age):\n",
    "    new_age=age+20\n",
    "    return new_age\n",
    "    print(new_age)\n",
    "future_predicted_age = future_age(18)\n",
    "print(future_predicted_age)"
   ]
  },
  {
   "cell_type": "markdown",
   "id": "8a094519",
   "metadata": {},
   "source": [
    "### 11_Loops"
   ]
  },
  {
   "cell_type": "markdown",
   "id": "5a40cf24",
   "metadata": {},
   "source": [
    "**#while and for loops**"
   ]
  },
  {
   "cell_type": "code",
   "execution_count": null,
   "id": "dc5bac00",
   "metadata": {},
   "outputs": [],
   "source": [
    "#while loops\n",
    "\n",
    "x=0\n",
    "while(x<=5):\n",
    "     print(x)\n",
    "     x=x+1 #this argument is necessary otherwise loop will go infinity as it will keep writing 0\n"
   ]
  },
  {
   "cell_type": "code",
   "execution_count": null,
   "id": "4c20da9e",
   "metadata": {},
   "outputs": [],
   "source": [
    "#for loops\n",
    "for x in range(5,10):\n",
    "     print(x)"
   ]
  },
  {
   "cell_type": "code",
   "execution_count": null,
   "id": "fc4b66b8",
   "metadata": {},
   "outputs": [],
   "source": [
    "#array is a set of similar variables in below days is an array of week days\n",
    "#below \"i\" can also be replaced with \"d\" it does not matter its just a representation\n",
    "iays=[\"Mon\",\"Tue\",\"Wed\", \"Thu\",\"Fri\",\"Sat\",\"Sun\"]\n",
    "\n",
    "for i in days:\n",
    "    #if(i==\"Fri\"):break #loop stops\n",
    "    if(i==\"Fri\"):continue #skips i or d or the entity mentioned will be skipped  \n",
    "    print(i)"
   ]
  },
  {
   "cell_type": "markdown",
   "id": "ad282695",
   "metadata": {},
   "source": [
    "### 12_Important Libraries"
   ]
  },
  {
   "cell_type": "code",
   "execution_count": null,
   "id": "e1ba1bb4",
   "metadata": {},
   "outputs": [],
   "source": [
    "# if you want to print the value of pi\n",
    "\n",
    "import math\n",
    "print(\"the value of pir is \", math.pi)\n",
    "\n",
    "import statistics\n",
    "\n",
    "x=[150,250,250,400]\n",
    "print(statistics.mean(x))\n",
    "\n",
    "#numpy, pandas are some of the important libraries"
   ]
  },
  {
   "cell_type": "markdown",
   "id": "0be1ed60",
   "metadata": {},
   "source": [
    "### 13_troubleshooting Python"
   ]
  },
  {
   "cell_type": "code",
   "execution_count": null,
   "id": "19796588",
   "metadata": {},
   "outputs": [],
   "source": [
    "#print(we are learning python with ammar) Syntax error\n",
    "\n",
    "#print(25/0) runtime error\n",
    "\n",
    "name=\"Massub\"\n",
    "print(\"Hello name\") #this is symentic error, it is our fault and we dont know where the code is wrong\n",
    "\n",
    "\n",
    "#troubleshooting is easy if you understand the error type"
   ]
  }
 ],
 "metadata": {
  "kernelspec": {
   "display_name": "Python 3 (ipykernel)",
   "language": "python",
   "name": "python3"
  },
  "language_info": {
   "codemirror_mode": {
    "name": "ipython",
    "version": 3
   },
   "file_extension": ".py",
   "mimetype": "text/x-python",
   "name": "python",
   "nbconvert_exporter": "python",
   "pygments_lexer": "ipython3",
   "version": "3.9.7"
  }
 },
 "nbformat": 4,
 "nbformat_minor": 5
}
